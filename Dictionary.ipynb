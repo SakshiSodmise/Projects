{
  "nbformat": 4,
  "nbformat_minor": 0,
  "metadata": {
    "colab": {
      "provenance": [],
      "authorship_tag": "ABX9TyNZMisZAb+ajDrXdeZjqn+A",
      "include_colab_link": true
    },
    "kernelspec": {
      "name": "python3",
      "display_name": "Python 3"
    },
    "language_info": {
      "name": "python"
    }
  },
  "cells": [
    {
      "cell_type": "markdown",
      "metadata": {
        "id": "view-in-github",
        "colab_type": "text"
      },
      "source": [
        "<a href=\"https://colab.research.google.com/github/SakshiSodmise/Projects/blob/main/Dictionary.ipynb\" target=\"_parent\"><img src=\"https://colab.research.google.com/assets/colab-badge.svg\" alt=\"Open In Colab\"/></a>"
      ]
    },
    {
      "cell_type": "code",
      "execution_count": null,
      "metadata": {
        "id": "dvT_GSAfmLef"
      },
      "outputs": [],
      "source": [
        "import json\n",
        "from difflib import get_close_matches\n",
        "data = json.load(open(\"data.json\"))\n",
        "word = input(\"Enter word: \")\n",
        "def find(w):\n",
        "    w = w.lower()\n",
        "    if w in data:\n",
        "        return data[w]\n",
        "    elif len(get_close_matches(w, data.keys())) > 0:\n",
        "        yn = input(\"Did you mean %s instead? Enter Y if yes, or N if no: \" % get_close_matches(w, data.keys())[0])\n",
        "        if yn == \"Y\":\n",
        "            return data[get_close_matches(w, data.keys())[0]]\n",
        "        elif yn == \"N\":\n",
        "            return \"The word doesn't exist. Please double check it.\"\n",
        "    else:\n",
        "        return \"The word doesn't exist. Please double check it.\"\n",
        "\n",
        "print(find(word))\n",
        "\n",
        "\n"
      ]
    }
  ]
}