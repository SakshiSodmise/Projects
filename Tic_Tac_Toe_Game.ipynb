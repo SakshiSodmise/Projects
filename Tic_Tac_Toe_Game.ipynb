{
  "nbformat": 4,
  "nbformat_minor": 0,
  "metadata": {
    "colab": {
      "provenance": [],
      "authorship_tag": "ABX9TyPgx3PX5kra2cXUKex7x2sb",
      "include_colab_link": true
    },
    "kernelspec": {
      "name": "python3",
      "display_name": "Python 3"
    },
    "language_info": {
      "name": "python"
    }
  },
  "cells": [
    {
      "cell_type": "markdown",
      "metadata": {
        "id": "view-in-github",
        "colab_type": "text"
      },
      "source": [
        "<a href=\"https://colab.research.google.com/github/SakshiSodmise/Projects/blob/main/Tic_Tac_Toe_Game.ipynb\" target=\"_parent\"><img src=\"https://colab.research.google.com/assets/colab-badge.svg\" alt=\"Open In Colab\"/></a>"
      ]
    },
    {
      "cell_type": "code",
      "execution_count": null,
      "metadata": {
        "id": "upWUBdnWfYsI"
      },
      "outputs": [],
      "source": [
        "TIC TAC TOE GAME\n",
        "\n",
        "https://replit.com/@sakshi2304/tic-tac-toe-game\n",
        "\n",
        "\n",
        "import os\n",
        "import time\n",
        "import displayboard\n",
        "import classfunc\n",
        "print()\n",
        "print(\"WELCOME TO TIC-TAC-TOE\\n\")\n",
        "print(\"----------------------\")\n",
        "displayboard.display_board()\n",
        "time.sleep(20)\n",
        "os.system(\"clear\")\n",
        "# Creating the Board() instance\n",
        "board=classfunc.Board()\n",
        "# Clear Screen function\n",
        "def refresh_screen():\n",
        "  os.system(\"clear\")\n",
        "  board.display()\n",
        "# Display the board\n",
        "board.display()\n",
        "\n",
        "while True:\n",
        "  refresh_screen()\n",
        "  # Get X input\n",
        "  x_choice=int(input(\"PLAYER X: Please choose a number between 0 - 8: \"))\n",
        "  #Update board\n",
        "  while(board.update_cell(x_choice,\"X\")==-1):\n",
        "    x_choice=int(input(\"PLAYER X: Please choose a number between 0 - 8: \"))\n",
        "  board.update_cell(x_choice,\"X\")\n",
        "\n",
        "  # Refresh the screen\n",
        "  refresh_screen()\n",
        "  #Check if X is the winner\n",
        "  if board.is_winner(\"X\")==True:\n",
        "    print(\"\\nX is the winner\")\n",
        "    replay=input(\"\\nDo you want to play again (Y/N): \")\n",
        "    if replay.upper()==\"Y\":\n",
        "      board.reset()\n",
        "      continue\n",
        "    else:\n",
        "      break\n",
        "  #Check for tie\n",
        "  if board.is_tie():\n",
        "    print(\"\\nTie Game\")\n",
        "    replay=input(\"\\nDo you want to play again (Y/N): \")\n",
        "    if replay.upper()==\"Y\":\n",
        "      board.reset()\n",
        "      continue\n",
        "    else:\n",
        "      break\n",
        "\n",
        "  o_choice=int(input(\"PLAYER O: Please choose a number between 0 - 8: \"))\n",
        "  #Update board\n",
        "  while(board.update_cell(o_choice,\"O\")==-1):\n",
        "    o_choice=int(input(\"PLAYER O: Please choose a number between 0 - 8: \"))\n",
        "  board.update_cell(o_choice,\"O\")\n",
        "\n",
        "  # Refresh the screen\n",
        "  refresh_screen()\n",
        "  #Check if O is the winner\n",
        "  if board.is_winner(\"O\")==True:\n",
        "    print(\"\\nO is the winner\")\n",
        "    replay=input(\"\\nDo you want to play again (Y/N): \")\n",
        "    if replay.upper()==\"Y\":\n",
        "      classfunc.board.reset()\n",
        "      continue\n",
        "    else:\n",
        "      break\n",
        "  #Check for tie\n",
        "  if board.is_tie():\n",
        "    print(\"\\nTie Game\")\n",
        "    replay=input(\"\\nDo you want to play again (Y/N): \")\n",
        "    if replay.upper()==\"Y\":\n",
        "      board.reset()\n",
        "      continue\n",
        "    else:\n",
        "      break\n",
        "\n",
        "\n"
      ]
    }
  ]
}