{
  "nbformat": 4,
  "nbformat_minor": 0,
  "metadata": {
    "colab": {
      "provenance": [],
      "authorship_tag": "ABX9TyMEIJWFf6Moi1D6n1UFVher",
      "include_colab_link": true
    },
    "kernelspec": {
      "name": "python3",
      "display_name": "Python 3"
    },
    "language_info": {
      "name": "python"
    }
  },
  "cells": [
    {
      "cell_type": "markdown",
      "metadata": {
        "id": "view-in-github",
        "colab_type": "text"
      },
      "source": [
        "<a href=\"https://colab.research.google.com/github/SakshiSodmise/Projects/blob/main/Morse_Code_Translator.ipynb\" target=\"_parent\"><img src=\"https://colab.research.google.com/assets/colab-badge.svg\" alt=\"Open In Colab\"/></a>"
      ]
    },
    {
      "cell_type": "code",
      "execution_count": 1,
      "metadata": {
        "colab": {
          "base_uri": "https://localhost:8080/"
        },
        "id": "nkB_x8iZeZB-",
        "outputId": "e2c9c835-8ef7-4573-9272-dc22e731c5aa"
      },
      "outputs": [
        {
          "output_type": "stream",
          "name": "stdout",
          "text": [
            "Morse Code Converter\n",
            "\n",
            "1. Convert text to Morse code\n",
            "2. Convert Morse code to text\n",
            "3. Exit\n",
            "Enter your choice (1/2/3): 1\n",
            "Enter the text you want to convert to Morse code: sakshi\n",
            "Morse code:  ... .- -.- ... .... ..\n",
            "\n",
            "1. Convert text to Morse code\n",
            "2. Convert Morse code to text\n",
            "3. Exit\n",
            "Enter your choice (1/2/3): 1\n",
            "Enter the text you want to convert to Morse code: help\n",
            "Morse code:  .... . .-.. .--.\n",
            "\n",
            "1. Convert text to Morse code\n",
            "2. Convert Morse code to text\n",
            "3. Exit\n",
            "Enter your choice (1/2/3): 3\n",
            "Exiting the program.\n"
          ]
        }
      ],
      "source": [
        "\n",
        "# Morse code dictionary\n",
        "morse_code_dict = {\n",
        "    'A': '.-', 'B': '-...', 'C': '-.-.', 'D': '-..', 'E': '.',\n",
        "    'F': '..-.', 'G': '--.', 'H': '....', 'I': '..', 'J': '.---',\n",
        "    'K': '-.-', 'L': '.-..', 'M': '--', 'N': '-.', 'O': '---',\n",
        "    'P': '.--.', 'Q': '--.-', 'R': '.-.', 'S': '...', 'T': '-',\n",
        "    'U': '..-', 'V': '...-', 'W': '.--', 'X': '-..-', 'Y': '-.--',\n",
        "    'Z': '--..', '0': '-----', '1': '.----', '2': '..---', '3': '...--',\n",
        "    '4': '....-', '5': '.....', '6': '-....', '7': '--...', '8': '---..',\n",
        "    '9': '----.', ' ': ' '\n",
        "}\n",
        "\n",
        "\n",
        "def text_to_morse(text):\n",
        "    morse_code = \"\"\n",
        "    for char in text.upper():\n",
        "        # If character not in the dictionary, use the original character\n",
        "        morse_char = morse_code_dict.get(char, char)\n",
        "        morse_code += morse_char + \" \"\n",
        "    return morse_code.strip()\n",
        "\n",
        "\n",
        "def morse_to_text(morse_code):\n",
        "    text = \"\"\n",
        "    morse_code_list = morse_code.split(\" \")\n",
        "    for morse_char in morse_code_list:\n",
        "        char = next((key for key, value in morse_code_dict.items()\n",
        "                    if value == morse_char), morse_char)\n",
        "        text += char\n",
        "    return text\n",
        "\n",
        "\n",
        "def main():\n",
        "    print(\"Morse Code Converter\")\n",
        "    while True:\n",
        "        print(\"\\n1. Convert text to Morse code\")\n",
        "        print(\"2. Convert Morse code to text\")\n",
        "        print(\"3. Exit\")\n",
        "        choice = input(\"Enter your choice (1/2/3): \")\n",
        "\n",
        "        if choice == '1':\n",
        "            text_input = input(\n",
        "                \"Enter the text you want to convert to Morse code: \")\n",
        "            morse_code_output = text_to_morse(text_input)\n",
        "            print(\"Morse code: \", morse_code_output)\n",
        "\n",
        "        elif choice == '2':\n",
        "            morse_input = input(\n",
        "                \"Enter the Morse code you want to convert to text: \")\n",
        "            text_output = morse_to_text(morse_input)\n",
        "            print(\"Text: \", text_output)\n",
        "\n",
        "        elif choice == '3':\n",
        "            print(\"Exiting the program.\")\n",
        "            break\n",
        "\n",
        "        else:\n",
        "            print(\"Invalid choice. Please enter a valid option (1, 2, or 3).\")\n",
        "\n",
        "\n",
        "if __name__ == \"__main__\":\n",
        "    main()\n",
        "\n"
      ]
    }
  ]
}