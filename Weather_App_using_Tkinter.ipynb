{
  "nbformat": 4,
  "nbformat_minor": 0,
  "metadata": {
    "colab": {
      "provenance": [],
      "authorship_tag": "ABX9TyPyCEdkeLhDZqaHj1jZgqt5",
      "include_colab_link": true
    },
    "kernelspec": {
      "name": "python3",
      "display_name": "Python 3"
    },
    "language_info": {
      "name": "python"
    }
  },
  "cells": [
    {
      "cell_type": "markdown",
      "metadata": {
        "id": "view-in-github",
        "colab_type": "text"
      },
      "source": [
        "<a href=\"https://colab.research.google.com/github/SakshiSodmise/Projects/blob/main/Weather_App_using_Tkinter.ipynb\" target=\"_parent\"><img src=\"https://colab.research.google.com/assets/colab-badge.svg\" alt=\"Open In Colab\"/></a>"
      ]
    },
    {
      "cell_type": "code",
      "execution_count": null,
      "metadata": {
        "id": "qgP5RJWKl0QP"
      },
      "outputs": [],
      "source": [
        "\n",
        "\n",
        "from tkinter import *\n",
        "import requests\n",
        "import json\n",
        "\n",
        "window=Tk()\n",
        "\n",
        "welcome=Label(text=\"Welcome to the Weather App!\", font=(\"Arial\",20))\n",
        "welcome.grid(column=0,row=1)\n",
        "\n",
        "place_lbl=Label(text=\"Please enter the name of the place\", font=(\"Arial\",15))\n",
        "place_lbl.grid(column=0,row=2)\n",
        "\n",
        "\n",
        "\n",
        "place=Entry(width=\"30\",font=(\"Arial\",20))\n",
        "place.grid(column=0,row=3)\n",
        "\n",
        "\n",
        "def weather():\n",
        "  location=place.get()\n",
        "  api=\"http://api.openweathermap.org/data/2.5/weather?q=\"+location+\"&appid=cf68af6b1720ee2d0fb9db397e7632d2\"\n",
        "  response=requests.get(api)\n",
        "  x = response.json()\n",
        "  y=x[\"main\"]\n",
        "  current_temperature = round(y[\"temp\"]-273.15)\n",
        "\n",
        "  if(current_temperature>25):\n",
        "   temperature.configure(text=current_temperature, bg=\"yellow\")\n",
        "   description.configure(text=\"It appears to be hot\")\n",
        "  else:\n",
        "    temperature.configure(text=current_temperature, bg=\"light blue\")\n",
        "    description.configure(text=\"It appears to be cold\")\n",
        "\n",
        "\n",
        "\n",
        "\n",
        "find=Button(text=\"Find it!\", command=weather)\n",
        "find.grid(column=0,row=4)\n",
        "\n",
        "\n",
        "temperature=Label(text=\" \",font=(\"Arial\",20))\n",
        "temperature.grid(column=0, row=5)\n",
        "\n",
        "description=Label(text=\"Something about the place!\",font=(\"Arial\",20), bg=\"black\", fg=\"white\")\n",
        "description.grid(column=0, row=6)\n",
        "\n",
        "\n",
        "window.geometry('600x400')\n",
        "window.mainloop()\n",
        "\n"
      ]
    }
  ]
}